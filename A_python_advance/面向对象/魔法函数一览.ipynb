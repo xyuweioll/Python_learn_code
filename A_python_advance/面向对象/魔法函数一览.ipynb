{
 "cells": [
  {
   "cell_type": "code",
   "execution_count": 8,
   "metadata": {
    "collapsed": true
   },
   "outputs": [
    {
     "name": "stdout",
     "output_type": "stream",
     "text": [
      "关羽\n",
      "张飞\n",
      "刘备\n",
      "关羽,张飞,刘备\n"
     ]
    },
    {
     "data": {
      "text/plain": "关羽,张飞,刘备"
     },
     "execution_count": 8,
     "metadata": {},
     "output_type": "execute_result"
    }
   ],
   "source": [
    "class Student:\n",
    "    def __init__(self, student_list):\n",
    "        self.student = student_list\n",
    "    def __getitem__(self, item):\n",
    "        return self.student[item]\n",
    "    def __str__(self):   # 用于格式化输出\n",
    "        return ','.join(self.student)\n",
    "    def __repr__(self):\n",
    "        return ','.join(self.student)\n",
    "\n",
    "student = Student(['关羽','张飞','刘备'])\n",
    "for item in student:\n",
    "    print(item)\n",
    "# 当使用print进行实例化对象打印时，自动调用__str__方法\n",
    "'''\n",
    "当前的魔术方法是不是因为继承了object而拥有的这些方法（错误的）\n",
    "\n",
    "当前的魔术方法是python自带的，跟类没有关系\n",
    "魔术方法是自带的 然后不能自己去实现魔术方法\n",
    "'''\n",
    "print(student)  # 若不使用魔术方法__str__(self)，打印当前对象的内存地址\n",
    "# 调试模式\n",
    "student"
   ]
  },
  {
   "cell_type": "code",
   "execution_count": 9,
   "outputs": [
    {
     "data": {
      "text/plain": "3"
     },
     "execution_count": 9,
     "metadata": {},
     "output_type": "execute_result"
    }
   ],
   "source": [
    "# 绝对值\n",
    "class Nums:\n",
    "    def __init__(self, num):\n",
    "        self.num = num\n",
    "    def __abs__(self):\n",
    "        return abs(self.num)  # 返回num的绝对值\n",
    "\n",
    "my_num = Nums(-3)\n",
    "abs(my_num)"
   ],
   "metadata": {
    "collapsed": false,
    "pycharm": {
     "name": "#%%\n"
    }
   }
  },
  {
   "cell_type": "code",
   "execution_count": 1,
   "outputs": [
    {
     "name": "stdout",
     "output_type": "stream",
     "text": [
      "x:3,y:5\n"
     ]
    }
   ],
   "source": [
    "# 向量运算\n",
    "class myVector:\n",
    "    def __init__(self,x,y):\n",
    "        self.x = x\n",
    "        self.y = y\n",
    "\n",
    "    def __add__(self, other_instance):\n",
    "        re_vector = myVector(self.x+other_instance.x, self.y+other_instance.y)\n",
    "        return re_vector\n",
    "    def __str__(self):\n",
    "        return f'x:{self.x},y:{self.y}'\n",
    "\n",
    "vec_1 = myVector(1,2)\n",
    "vec_2 = myVector(2,3)\n",
    "\n",
    "print(vec_1+vec_2)"
   ],
   "metadata": {
    "collapsed": false,
    "pycharm": {
     "name": "#%%\n"
    }
   }
  },
  {
   "cell_type": "code",
   "execution_count": null,
   "outputs": [],
   "source": [],
   "metadata": {
    "collapsed": false,
    "pycharm": {
     "name": "#%%\n"
    }
   }
  }
 ],
 "metadata": {
  "kernelspec": {
   "display_name": "Python 3",
   "language": "python",
   "name": "python3"
  },
  "language_info": {
   "codemirror_mode": {
    "name": "ipython",
    "version": 2
   },
   "file_extension": ".py",
   "mimetype": "text/x-python",
   "name": "python",
   "nbconvert_exporter": "python",
   "pygments_lexer": "ipython2",
   "version": "2.7.6"
  }
 },
 "nbformat": 4,
 "nbformat_minor": 0
}